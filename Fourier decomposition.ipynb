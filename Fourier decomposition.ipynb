{
 "cells": [
  {
   "cell_type": "markdown",
   "metadata": {},
   "source": [
    "# <center>Fourier Decomposition</center>\n",
    "Here, we reproduce the graphs on page 92 of the lecture notes (which were made with Mathematica). \n",
    "\n",
    "We are approximating the linear function, $f(x) = x$ in the domain $0 \\le x \\le 1$ by a sum of sinusoids.  The sum is:\n",
    "\n",
    "$$f(x) = \\frac{1}{2} - \\sum_{n=1}^{\\infty}\\frac{\\sin(2\\pi n x)}{n\\pi}$$\n",
    "\n",
    "This follows from the fact that the Fourier expansion coefficients are:\n",
    "\n",
    "\\begin{align*}\n",
    "\\text{For } n \\ne 0\\text{:  } a_n & = \\frac{2}{a}\\int_{0}^{a} f(x)\\sin(2\\pi n x/a)dx = 2\\int_{0}^{1} x\\sin(2\\pi n x)dx = -\\frac{1}{n\\pi} \\\\\n",
    "\\text{For } n \\ne 0\\text{:  } b_n & = \\frac{2}{a}\\int_{0}^{a} f(x)\\cos(2\\pi n x/a)dx = 2\\int_{0}^{1} x\\cos(2\\pi n x)dx = 0 \\\\\n",
    "b_0 &= \\frac{1}{a}\\int_{0}^{a} f(x)dx\\text{, the average value of }f(x).\n",
    "\\end{align*}\n",
    "\n"
   ]
  },
  {
   "cell_type": "markdown",
   "metadata": {},
   "source": [
    "Pyplot documentation is <a href=\"http://matplotlib.org/users/pyplot_tutorial.html\">here</a>.\n",
    "Matplotlib color codes are <a href=\"http://matplotlib.org/api/colors_api.html\">here</a>. Line format documentation is <a href=\"http://matplotlib.org/api/lines_api.html#matplotlib.lines.Line2D.set_color\">here</a>.\n",
    "\n",
    "Note that although the Fourier decomposition is defined on the range $0 \\le x \\le 1$,\n",
    "the graphs cover $0 \\le x \\le 2$.  This shows the periodicity effect.\n",
    "\n",
    "How would you change `fline()` to make the Fourier expansion valid for $0 \\le x \\le 2$?"
   ]
  },
  {
   "cell_type": "code",
   "execution_count": null,
   "metadata": {
    "collapsed": false
   },
   "outputs": [],
   "source": [
    "# Import the usual libraries.\n",
    "import numpy as np\n",
    "import matplotlib as mpl\n",
    "import matplotlib.pyplot as plt\n",
    "# Display plots inline (not on another device).\n",
    "%matplotlib inline                     \n",
    "mpl.rcParams['figure.figsize']=[10,6]  # Set H and V sizes of plots.\n",
    "\n",
    "# plt.plot() needs a list of x values.  We will plot from 0 to 2. \n",
    "# The third argument is the spacing.  If it is too large, you'll lose \n",
    "# the high frequancy components.  For example, set the spacing to 0.01.\n",
    "x = np.arange(0, 2, 0.001);\n",
    "\n",
    "# The Fourier series approximation to f(x) = x in the range 0 < x < 1.\n",
    "# nmax is the number of terms to include in the sum.  Note: nmax+1 in the range.\n",
    "# The sum() function, a built-in Python function, operates on lists of values.\n",
    "# Hence the [] in its argument.\n",
    "def fline(x,nmax): # This x (a function argument) is not the same as the x above.\n",
    "    return 0.5 - sum([np.sin(2*np.pi*x*n)/n for n in range(1,nmax+1)])/np.pi\n",
    "\n",
    "# The above function definition is a compact (but probably somewhat less efficient) \n",
    "# way to implement this code: \n",
    "# def fline(x,nmax):\n",
    "#     two_pi_x = 2*np.pi*x\n",
    "#     sum = 0\n",
    "#     for n in range(1,nmax+1):\n",
    "#         sum += np.sin(two_pi_x*n)/n\n",
    "#     return 0.5 - sum/np.pi\n",
    "\n",
    "# Generate graphs for nmax = 3, 10, and 100.\n",
    "nmax=3\n",
    "plt.plot(x, fline(x,nmax), color = '0.5', linewidth=1) # Gray.\n",
    "nmax=10\n",
    "plt.plot(x, fline(x,nmax), color = 'b', linewidth=1)   # Blue\n",
    "nmax=100\n",
    "plt.plot(x, fline(x,nmax), color = 'r', linewidth=0.5) # Red\n",
    "\n",
    "plt.title(\"Fourier Series Approximation to f(x) = x\")\n",
    "plt.ylabel(\"f(x)\")\n",
    "plt.xlabel(\"x\")\n",
    "\n",
    "plt.show()"
   ]
  },
  {
   "cell_type": "code",
   "execution_count": null,
   "metadata": {
    "collapsed": true
   },
   "outputs": [],
   "source": []
  }
 ],
 "metadata": {
  "kernelspec": {
   "display_name": "Python 3",
   "language": "python",
   "name": "python3"
  },
  "language_info": {
   "codemirror_mode": {
    "name": "ipython",
    "version": 3
   },
   "file_extension": ".py",
   "mimetype": "text/x-python",
   "name": "python",
   "nbconvert_exporter": "python",
   "pygments_lexer": "ipython3",
   "version": "3.4.3"
  }
 },
 "nbformat": 4,
 "nbformat_minor": 0
}
