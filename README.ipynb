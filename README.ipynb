{
 "cells": [
  {
   "cell_type": "markdown",
   "metadata": {},
   "source": [
    "## <font color=blue>iPython files for Physics 435</font>\n",
    "\n",
    "I suggest doing them in this order:<p>\n",
    "1) <a href=\"Introduction.ipynb\">Introduction</a><br>\n",
    "2) <a href=\"Graphing.ipynb\">Graphing</a><br>\n",
    "3) <a href=\"Interactive graphs.ipynb\">Interactive graphs</a><br>\n",
    "4) <a href=\"Numerical integration.ipynb\">Numerical integration</a><br>\n",
    "5) <a href=\"Fourier decomposition.ipynb\">Fourier decomposition</a><br>\n",
    "6) <a href=\"Dipole.ipynb\">Dipole</a>"
   ]
  },
  {
   "cell_type": "code",
   "execution_count": null,
   "metadata": {
    "collapsed": true
   },
   "outputs": [],
   "source": []
  }
 ],
 "metadata": {
  "kernelspec": {
   "display_name": "Python 3",
   "language": "python",
   "name": "python3"
  },
  "language_info": {
   "codemirror_mode": {
    "name": "ipython",
    "version": 3
   },
   "file_extension": ".py",
   "mimetype": "text/x-python",
   "name": "python",
   "nbconvert_exporter": "python",
   "pygments_lexer": "ipython3",
   "version": "3.4.3"
  }
 },
 "nbformat": 4,
 "nbformat_minor": 0
}
