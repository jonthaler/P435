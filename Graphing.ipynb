{
 "cells": [
  {
   "cell_type": "markdown",
   "metadata": {},
   "source": [
    "# <center>Making Graphs</center>\n",
    "Graphs are made by evaluating the function to be plotted at\n",
    "a series of points (usually, but not necessarily equally spaced), \n",
    "and joining the points by lines, which can be straight or some fancier curve.  We are using the `pyplot` library (in `matplotlib`), which is\n",
    "useful, but has some limitations when plotting functions that have cusps or discontinuities.  pyplot documentation is [here](http://matplotlib.org/users/pyplot_tutorial.html) and [here](http://matplotlib.org/api/pyplot_api.html).\n",
    "\n",
    "First, let's plot the sine function, `np.sin(x)`.  It's a nice, continuous function.  Unfortunately, if you replace it with `potential(x,R)` in the indicated statement, you'll find that `pyplot`'s `plot` function fails."
   ]
  },
  {
   "cell_type": "code",
   "execution_count": null,
   "metadata": {
    "collapsed": false
   },
   "outputs": [],
   "source": [
    "import numpy as np\n",
    "import matplotlib as mpl\n",
    "import matplotlib.pyplot as plt\n",
    "# Display the plots here (inline).\n",
    "%matplotlib inline                     \n",
    "mpl.rcParams['figure.figsize']=[8,4]  # Set H and V sizes of plots.\n",
    "\n",
    "# The potential of a uniformly charged sphere has a cusp.\n",
    "# We'll try to plot it, but the cusp makes it complicated.\n",
    "def potential(r,R):\n",
    "    if  r > R:\n",
    "        return 1/r\n",
    "    else:\n",
    "        return r/R**2\n",
    "\n",
    "# Use pyplot to graph the sine function.\n",
    "# This statement specifies the domain of the x-axis.\n",
    "# It creates a list of x values, which you can see by printing x.\n",
    "x = np.linspace(0, 10)\n",
    "\n",
    "Radius = 1.0        # The radius of the sphere\n",
    "\n",
    "# ----\n",
    "# If you replace np.sin(x) with potential(x,Radius).  It will fail.\n",
    "line, = plt.plot(x, np.sin(x), '--', linewidth=2)\n",
    "# ----\n",
    "\n",
    "plt.ylabel(\"f(x)\")\n",
    "plt.xlabel(\"x\")\n",
    "\n",
    "# Control the appearance of the plotted line.\n",
    "dashes = [10, 5, 100, 5] # 10 points on, 5 off, 100 on, 5 off\n",
    "line.set_dashes(dashes)\n",
    "\n",
    "plt.show()"
   ]
  },
  {
   "cell_type": "markdown",
   "metadata": {},
   "source": [
    "`plot` actually just plots lists of (x,y) pairs.  \n",
    "We can obtain the same result as above by creating the lists by hand.<br>\n",
    "Note that we can use the \"for\" construct to create a list."
   ]
  },
  {
   "cell_type": "code",
   "execution_count": null,
   "metadata": {
    "collapsed": false
   },
   "outputs": [],
   "source": [
    "x1 = [0.1*i         for i in range(0,100)]\n",
    "y1 = [np.sin(0.1*i) for i in range(0,100)]\n",
    "plt.plot(x1,y1)\n",
    "plt.show()"
   ]
  },
  {
   "cell_type": "markdown",
   "metadata": {},
   "source": [
    "The manual method will let us plot functions with kinks or\n",
    "discontinutities, which the `pyplot` library can't easily handle.\n",
    "Let's plot `potential(r)`.  Start by creating two (x,y) lists, \n",
    "one for each region of `r`."
   ]
  },
  {
   "cell_type": "code",
   "execution_count": null,
   "metadata": {
    "collapsed": false
   },
   "outputs": [],
   "source": [
    "# Set up the radial steps.  \n",
    "Radius    = 1.5          # The radius of the sphere\n",
    "rfraction = 0.01         # Make each step 1% of the radius.\n",
    "rstep     = rfraction*Radius\n",
    "rmax      = 4*Radius     # How far out to go.\n",
    "\n",
    "# Define the potential function.\n",
    "def potential(r,R):\n",
    "    if  r > R:\n",
    "        return 1/r\n",
    "    else:\n",
    "        return r/R**2\n",
    "\n",
    "# The r < Radius part of the graph:\n",
    "# range requires insteps (the # steps to take) to be an integer.\n",
    "insteps   = int(Radius/rstep) \n",
    "xin = [i*rstep                    for i in range(0,insteps)]\n",
    "yin = [potential(i*rstep, Radius) for i in range(0,insteps)]\n",
    "\n",
    "# Plot the r < Radius part.\n",
    "plt.plot(xin,yin)\n",
    "plt.show()\n",
    "\n",
    "# The r > Radius part of the graph.  xout starts at r = Radius.\n",
    "rmax     = 4*Radius\n",
    "outsteps = int((rmax-Radius)/rstep)\n",
    "xout = [(i+insteps)*rstep                    for i in range(0,outsteps)]\n",
    "yout = [potential((i+insteps)*rstep, Radius) for i in range(0,outsteps)]\n",
    "\n",
    "# Plot the r > Radius part.\n",
    "plt.plot(xout,yout)\n",
    "plt.show()\n",
    "\n",
    "# Put the two parts together.\n",
    "# Merging lists is simple - just add them!\n",
    "# Now, we can plot a function that has a cusp!!\n",
    "x2 = xin + xout\n",
    "y2 = yin + yout\n",
    "plt.ylabel(\"V(r)\")\n",
    "plt.xlabel(\"r/Radius\")\n",
    "# Set the plot limits to leave some white space around the graph.\n",
    "plt.xlim(-Radius,5*Radius)\n",
    "plt.ylim(-0.1,0.8)\n",
    "plt.plot(x2,y2)\n",
    "plt.show()"
   ]
  },
  {
   "cell_type": "markdown",
   "metadata": {},
   "source": [
    "We can plot two functions at the same time.\n",
    "Notice that the plot limits expand to hold the graphs."
   ]
  },
  {
   "cell_type": "code",
   "execution_count": null,
   "metadata": {
    "collapsed": false
   },
   "outputs": [],
   "source": [
    "plt.plot(x1,y1)\n",
    "plt.plot(x2,y2)\n",
    "plt.show()"
   ]
  },
  {
   "cell_type": "code",
   "execution_count": null,
   "metadata": {
    "collapsed": true
   },
   "outputs": [],
   "source": []
  }
 ],
 "metadata": {
  "kernelspec": {
   "display_name": "Python 3",
   "language": "python",
   "name": "python3"
  },
  "language_info": {
   "codemirror_mode": {
    "name": "ipython",
    "version": 3
   },
   "file_extension": ".py",
   "mimetype": "text/x-python",
   "name": "python",
   "nbconvert_exporter": "python",
   "pygments_lexer": "ipython3",
   "version": "3.4.3"
  }
 },
 "nbformat": 4,
 "nbformat_minor": 0
}
