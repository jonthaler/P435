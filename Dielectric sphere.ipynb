{
 "cells": [
  {
   "cell_type": "markdown",
   "metadata": {},
   "source": [
    "# <center>3D Surface Plot of the Electric Dipole Potential</center>\n",
    "\n",
    "Let's plot the potential contours for a dielectric sphere in an initially uniform external electric field.  We did the calculation in class.  \n",
    "\n",
    "Documentation for `matplotlib` 3D plotting (`mplot3d`) is \n",
    "<a href=\"http://matplotlib.org/mpl_toolkits/mplot3d/tutorial.html\">here</a>.  An example is \n",
    "<a href=\"http://matplotlib.org/examples/mplot3d/surface3d_demo.html\">here</a>.\n",
    "\n",
    "We want to plot this function: \n",
    "\\begin{align*}\n",
    "\\text{For } r \\le R & \\text{:  } V_\\text{in} = -\\frac{3}{\\epsilon_r+2} E_0r\\cos\\theta \\\\\n",
    "\\text{For } r \\ge R & \\text{:  } V_\\text{out} = -E_0r\\cos\\theta + \\frac{\\epsilon_r-1}{\\epsilon_r+2}E_0R^{ 3}\\frac{\\cos\\theta}{r^2}\n",
    "\\end{align*}\n",
    "\n"
   ]
  },
  {
   "cell_type": "code",
   "execution_count": null,
   "metadata": {
    "collapsed": true
   },
   "outputs": [],
   "source": [
    "import numpy as np\n",
    "# Plotting functions.\n",
    "import matplotlib as mpl\n",
    "import matplotlib.pyplot as plt\n",
    "# Display the plots here (inline).\n",
    "%matplotlib inline                     \n",
    "mpl.rcParams['figure.figsize']=[6,6]  # Set H and V sizes of plots.\n",
    "\n",
    "# The parameters of the problem.\n",
    "Radius = 4.0   # Radius of the sphere.\n",
    "epsr   = 4     # Permittivity of the sphere.\n",
    "E0     = -1.0  # External electric field strength.\n",
    "\n",
    "# The potential function.  Assume that E points in the x direction.\n",
    "def V(x,y):\n",
    "    r = np.sqrt(x**2 + y**2)\n",
    "    if r == 0:   # avoid dividing by zero.\n",
    "        return 0\n",
    "    elif r <= Radius:\n",
    "        cost = x/r\n",
    "        return -(3/(epsr+2))*E0*r*cost\n",
    "    else:\n",
    "        cost = x/r\n",
    "        return -E0*r*cost + ((epsr-1)/(epsr+2))*E0*Radius**3*cost/r**2 #     "
   ]
  },
  {
   "cell_type": "markdown",
   "metadata": {},
   "source": [
    "Set up the plot parameters.<br>\n",
    "`Y` and `X` are each 2D arrays of coordinates that fill the specified grid.\n",
    "The imaginary arguments, `nxj` and `nyj`, tell `mgrid` to create `nx` (or `ny`) points between\n",
    "`-Size` and `+Size` inclusive.  If they were real, they would be the step length, \n",
    "starting at `-Size`.<br>\n",
    "This is **REALLY UGLY CODE**, but we have to live with it."
   ]
  },
  {
   "cell_type": "code",
   "execution_count": null,
   "metadata": {
    "collapsed": true
   },
   "outputs": [],
   "source": [
    "xSize = 10  # min and max value of x to plot\n",
    "ySize = 10  # min and max value of y to plot\n",
    "nx    = 101  # x positions in the grid.\n",
    "ny    = 101  # y positions in the grid.\n",
    "nxj   = 101j\n",
    "nyj   = 101j\n",
    "Y, X  = np.mgrid[-ySize:ySize:nyj, -xSize:xSize:nxj]"
   ]
  },
  {
   "cell_type": "markdown",
   "metadata": {},
   "source": [
    "Create and fill the 2D array that holds the value of `V` at each grid point.<br>\n",
    "Because `matplotlib` can't handle functions with \"if\" statements, we need to fill `Z` by hand, one element at a time.\n",
    "\n",
    "<font color=red>Note:</font>  This is what the `matplotlib` functions actually do, but the machinery is usually hidden from us.\n",
    "\n",
    "Draw the circular boundary of the sphere.  It is centered at `(0,0)` with radius = `Radius`.<p>\n",
    "<ul>\n",
    "<li>`plt.gcf` gets a pointer to the current figure.  In complicated applications, \n",
    "there might be more than one figure on the display (<i>e.g.</i>, two separate contour plots).<p>\n",
    "<li>`fig.gca` gets the figure's axes, so it knows where `(0,0)` is on the plot, and how big `Radius` is.\n",
    "</ul>\n",
    "\n",
    "<font color=red>Note:</font>  These functions are a bit obscure.  This is the kind of thing that becomes easier with experience - you learn what utility functions are available and also how to navigate the documentation.  Documentation about `matplotlib Artists` and the architecture of the `matplotlib` API (probably more than you want to know) is <a href=\"http://matplotlib.org/users/artists.html\">here</a>."
   ]
  },
  {
   "cell_type": "code",
   "execution_count": null,
   "metadata": {
    "collapsed": false,
    "scrolled": true
   },
   "outputs": [],
   "source": [
    "Z = np.empty([nx,ny])\n",
    "for i in np.arange(0,nx):\n",
    "    for j in np.arange(0,ny):\n",
    "        x = X[i][j]\n",
    "        y = Y[i][j]\n",
    "        Z[i][j] = V(x,y)\n",
    "        \n",
    "# Calculate nContours equally spaced countour values.\n",
    "Vspan     = V(xSize,0) - V(-xSize,0)\n",
    "nContours = 40\n",
    "dV        = Vspan/nContours\n",
    "Vcontours = V(-xSize,0) + dV*np.arange(0,nContours)\n",
    "# Contour lines are black.\n",
    "black = (0.0,0.0,0.0)\n",
    "clist = (black,)*nContours\n",
    "\n",
    "plt.contour(X,Y,Z,Vcontours,colors=clist)\n",
    "plt.title(\"Dielectric Sphere Equipotentials\")\n",
    "\n",
    "Circle = plt.Circle((0,0), Radius,color='b', fill=False, linestyle='dashed')\n",
    "fig = plt.gcf()\n",
    "# Place the circle in the current figure, with the proper coordinates.\n",
    "fig.gca().add_artist(Circle)\n",
    "\n",
    "# This is not always needed. (I don't know why.)\n",
    "plt.show()"
   ]
  },
  {
   "cell_type": "code",
   "execution_count": null,
   "metadata": {
    "collapsed": true
   },
   "outputs": [],
   "source": []
  }
 ],
 "metadata": {
  "kernelspec": {
   "display_name": "Python 3",
   "language": "python",
   "name": "python3"
  },
  "language_info": {
   "codemirror_mode": {
    "name": "ipython",
    "version": 3
   },
   "file_extension": ".py",
   "mimetype": "text/x-python",
   "name": "python",
   "nbconvert_exporter": "python",
   "pygments_lexer": "ipython3",
   "version": "3.4.3"
  }
 },
 "nbformat": 4,
 "nbformat_minor": 0
}
