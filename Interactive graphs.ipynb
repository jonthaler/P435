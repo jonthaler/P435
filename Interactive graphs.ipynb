{
 "cells": [
  {
   "cell_type": "markdown",
   "metadata": {},
   "source": [
    "# <center>Interactive Graphs</center>\n",
    "It is instructive to see how graphs change when its parameters vary.  However, it can become quite annoying to have to edit the code every time you want to make a change.  It is often more convenient, and more illuminating, to be able to vary the parameters continuously.  That lets you watch the situation vary in real time."
   ]
  },
  {
   "cell_type": "markdown",
   "metadata": {},
   "source": [
    "Start with the graph of the potential of a uniformly charged sphere.  This is a copy of code you've already seen."
   ]
  },
  {
   "cell_type": "code",
   "execution_count": null,
   "metadata": {
    "collapsed": false
   },
   "outputs": [],
   "source": [
    "import matplotlib.pyplot as plt\n",
    "import matplotlib as mpl\n",
    "# Display the plots inline (ie, here).\n",
    "%matplotlib inline                     \n",
    "mpl.rcParams['figure.figsize']=[8,4]  # Set H and V sizes of plots.\n",
    "\n",
    "\n",
    "import numpy as np\n",
    "\n",
    "# Set up the radial steps.  \n",
    "Radius    = 1.5          # The radius of the sphere\n",
    "rfraction = 0.01         # Make each step 1% of the radius.\n",
    "rstep     = rfraction*Radius\n",
    "rmax      = 4*Radius\n",
    "\n",
    "# Define the potential function.\n",
    "def potential(r,R):\n",
    "    if  r > R:\n",
    "        return R/r\n",
    "    else:\n",
    "        return r/R\n",
    "\n",
    "# The r < Radius part of the graph:\n",
    "# range requires insteps (the # steps to take) to be an integer.\n",
    "insteps   = int(Radius/rstep) \n",
    "xin = [i*rstep                    for i in range(0,insteps)]\n",
    "yin = [potential(i*rstep, Radius) for i in range(0,insteps)]\n",
    "\n",
    "# Plot the r < Radius part.\n",
    "plt.plot(xin,yin)\n",
    "plt.show()\n",
    "\n",
    "# The r > Radius part of the graph.  xout starts at r = Radius.\n",
    "rmax     = 4*Radius\n",
    "outsteps = int((rmax-Radius)/rstep)\n",
    "xout = [(i+insteps)*rstep                    for i in range(0,outsteps)]\n",
    "yout = [potential((i+insteps)*rstep, Radius) for i in range(0,outsteps)]\n",
    "\n",
    "# Plot the r > Radius part.\n",
    "plt.plot(xout,yout)\n",
    "plt.show()\n",
    "\n",
    "# Put the two parts together.\n",
    "# Merging lists is simple - just add them!\n",
    "# Now, we can plot a function that has a cusp!!\n",
    "x2 = xin + xout\n",
    "y2 = yin + yout\n",
    "plt.ylabel(\"V(r)\")\n",
    "plt.xlabel(\"r/Radius\")\n",
    "# Set the plot limits to leave some white space around the graph.\n",
    "plt.xlim(-Radius,5*Radius)\n",
    "plt.ylim(-0.1,1.1)\n",
    "plt.plot(x2,y2)\n",
    "plt.show()"
   ]
  },
  {
   "cell_type": "markdown",
   "metadata": {},
   "source": [
    "### Changing the plot on the fly, without editing code.\n",
    "\n",
    "Let's make use of another library `iPython.html.widgets`, which enables interactive functionality.  Let'start  by plotting the `sin` function, varying the frequency and amplitude on the fly.  The `interact` function automatically builds a user interface for exploring the plot_sine function using sliders to adjust the parameters. This code is adapted from an [example](http://www.nature.com/news/ipython-interactive-demo-7.21492?article=1.16261) provided by *Nature* magazine. "
   ]
  },
  {
   "cell_type": "code",
   "execution_count": null,
   "metadata": {
    "collapsed": false
   },
   "outputs": [],
   "source": [
    "import matplotlib.pyplot as plt\n",
    "import numpy as np\n",
    "\n",
    "# Import IPython's interact function which is used below to\n",
    "# build the interactive widgets\n",
    "from IPython.html.widgets import interact\n",
    "\n",
    "# We have defined default values for the parameters.  This determines \n",
    "# where the sliders will be positioned when you first start.\n",
    "# If you invoke plot_sine without specifying any parameters, \n",
    "# e.g., plot_sine(), you'l see the same as if you do plot_sine(4,1,6,1000). \n",
    "def plot_sine(frequency=4.0, amplitude=1.0, xmax=6, npoints=1000):\n",
    "   \n",
    "    # Integer arithmetic truncates fractions, so we must tell Python \n",
    "    # one of the quantities is \"float\" (non-integer) before dividing.\n",
    "    xstep = float(xmax)/(npoints-1)\n",
    "    x = [i*xstep                             for i in range(0,npoints)]\n",
    "    y = [amplitude*np.sin(frequency*i*xstep) for i in range(0,npoints)]\n",
    "\n",
    "    plt.plot(x,y)\n",
    "    plt.show()\n",
    "\n",
    "# interact lets us change the parameters of plot_sine on the fly, \n",
    "# using sliders.\n",
    "interact(plot_sine, frequency  = (1.0, 22.0, 0.5), \n",
    "                    amplitude  = (1, 5, 1),\n",
    "                    xmax       = (1,20,1),\n",
    "                    npoints    = (50,1000,50))"
   ]
  },
  {
   "cell_type": "markdown",
   "metadata": {},
   "source": [
    "### An interesting sidelight, for those who will take real data.\n",
    "\n",
    "Set `xmax` to 10 or higher.  Notice what happens when you turn the frequency way up and the number of points way down.  The plot of the data no longer looks like a nice sine wave.  This kind of problem, called \"aliasing\", arises when the spacing of the data points (`xstep` in the code) is comparable to, or larger than, the period of oscillation.  When doing experiments that involve taking discrete data points, you must beware of this effect.  This is an illustration of the [Nyquist-Shannon theorem](http://whatis.techtarget.com/definition/Nyquist-Theorem)."
   ]
  },
  {
   "cell_type": "markdown",
   "metadata": {},
   "source": [
    "### Study the behavior of the \"charged sphere potential.\n",
    "\n",
    "Look at this code.  It lets us vary the radius and the total charge of the charged sphere."
   ]
  },
  {
   "cell_type": "code",
   "execution_count": null,
   "metadata": {
    "collapsed": false
   },
   "outputs": [],
   "source": [
    "import matplotlib.pyplot as plt\n",
    "import numpy as np\n",
    "from IPython.html.widgets import interact\n",
    "\n",
    "# Define the potential function.\n",
    "def potential(Q, R, r):\n",
    "    if  r > R:\n",
    "        return Q/r\n",
    "    else:\n",
    "        return Q*r/R**2\n",
    "\n",
    "# We have defined default values for the parameters.  This determines \n",
    "# where the sliders will be positioned when you first start.\n",
    "def plotpot(Qtot=2.0, Radius=1.0):\n",
    "   \n",
    "    # Integer arithmetic truncates fractions, so we must tell Python \n",
    "    # one of the quantities is \"float\" (non-integer) before dividing.\n",
    "    rmax = 10.0\n",
    "    rstep = rmax/1000\n",
    "    r = [i*rstep                            for i in range(0,1000)]\n",
    "    pot = [potential(Qtot, Radius, i*rstep) for i in range(0,1000)]\n",
    "\n",
    "    # Set the plot limits to prevent rescaling when we change parameters.\n",
    "    plt.xlim(-0.1, 6)\n",
    "    plt.ylim(-0.1, 3)\n",
    "    \n",
    "    plt.ylabel(\"V(r)\")\n",
    "    plt.xlabel(\"r\")\n",
    "\n",
    "    plt.plot(r,pot)\n",
    "    plt.show()\n",
    "\n",
    "# interact lets us change the parameters on the fly, using sliders.\n",
    "interact(plotpot, Qtot   = (1.0, 3, 0.5), \n",
    "                  Radius = (0.5, 5, 0.5))"
   ]
  },
  {
   "cell_type": "markdown",
   "metadata": {},
   "source": [
    "You should see that for `r > Radius`, the potential depends only on `Qtot`.  At `r < Radius`, the potential changes more rapidly when `Radius` is smaller, because the charge density is higher."
   ]
  },
  {
   "cell_type": "code",
   "execution_count": null,
   "metadata": {
    "collapsed": true
   },
   "outputs": [],
   "source": []
  }
 ],
 "metadata": {
  "kernelspec": {
   "display_name": "Python 3",
   "language": "python",
   "name": "python3"
  },
  "language_info": {
   "codemirror_mode": {
    "name": "ipython",
    "version": 3
   },
   "file_extension": ".py",
   "mimetype": "text/x-python",
   "name": "python",
   "nbconvert_exporter": "python",
   "pygments_lexer": "ipython3",
   "version": "3.4.3"
  }
 },
 "nbformat": 4,
 "nbformat_minor": 0
}
