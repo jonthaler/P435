{
 "cells": [
  {
   "cell_type": "markdown",
   "metadata": {},
   "source": [
    "# <center>Electric Dipole</center>\n",
    "* Two charges, nominally $q_1 = 1$ and $q_2 = -0.4$, but values and positions are adjustable.\n”,
    "* For clarity, I omit the ubiquitous factor of $\\frac{1}{4\\pi\\epsilon_0}$. \n",
    "* Plot the field lines and equipotentials.\n",
    "* Suggested exercise: Assuming that $q_+ \\gt \\lvert{q_-}\\rvert$, verify that the fraction (fractional solid angle) of  $q_+$'s field lines that end on $q_-$ is $\\lvert{q_-}\\rvert/q_+$.  You'll have to estimate the angle, $\\theta$, that separates the field lines ending on $q_-$ from those that go to infinity, then integrate the solid angle from $0$ to $\\theta$ angle.  Don't forget the factor of $\\sin(\\theta)$ in the solid angle.  Alternatively, you can calculate the angle and graph lines (on the field line plot) that have the calculated slopes ($\\pm\\tan(\\theta)$)."
   ]
  },
  {
   "cell_type": "code",
   "execution_count": null,
   "metadata": {
    "collapsed": false
   },
   "outputs": [],
   "source": [
    "import numpy as np\n",
    "# Plotting functions.\n",
    "import matplotlib as mpl\n",
    "import matplotlib.pyplot as plt\n",
    "# Display the plots here (inline).\n",
    "%matplotlib inline                     \n",
    "mpl.rcParams['figure.figsize']=[8,4]  # Set H and V sizes of plots.\n",
    "\n",
    "# Magnitude and position of q1.\n",
    "q1=1.0\n",
    "x1=1.0\n",
    "y1=0.0\n",
    "\n",
    "# Magnitude and position of q2.\n",
    "q2=-0.4\n",
    "x2=-1.0\n",
    "y2=0.0\n",
    "\n",
    "# Where to evaluate the field and potential.\n",
    "# Y and X are lists of coordinates that fill the specified grid.\n",
    "# The imaginary argument, 101j, tells mgrid to create 101 points between\n",
    "# -Size and +Size inclusive.  If it were real, it would be the step length, \n",
    "# starting at -Size.\n",
    "# This is **REALLY UGLY CODE**, but we have to live with it.\n",
    "xSize = 10\n",
    "ySize = 10\n",
    "Y, X = np.mgrid[-ySize:ySize:100j, -xSize:xSize:100j]\n",
    "\n",
    "# Calculate the magnitude and components of the field due to q1.\n",
    "# Because X and Y are each 1-D lists, d1, etc., are 2-D lists.\n",
    "d1=np.sqrt((X-x1)**2+(Y-y1)**2)\n",
    "V1=q1/d1\n",
    "Emag1=q1/((X-x1)**2+(Y-y1)**2)\n",
    "E1x=((X-x1)/d1)*Emag1\n",
    "E1y=((Y-y1)/d1)*Emag1\n",
    "\n",
    "# Calculate the magnitude and components of the field due to q2.\n",
    "d2=np.sqrt((X-x2)**2+(Y-y2)**2)\n",
    "V2=q2/d2\n",
    "Emag2=q2/((X-x2)**2+(Y-y2)**2)\n",
    "E2x=((X-x2)/d2)*Emag2\n",
    "E2y=((Y-y2)/d2)*Emag2\n",
    "\n",
    "# The field and potential due to q1 + q2.\n",
    "Etot=np.sqrt((E1x+E2x)**2+(E1y+E2y)**2)\n",
    "Etotx=E1x+E2x\n",
    "Etoty=E1y+E2y\n",
    "Vtot=V1+V2\n",
    "\n",
    "# Plot the field lines.\n",
    "# \"density\" controls how close together the lines are allowed to be.\n",
    "# \"arrowsize\" controls the size of the arrowheads.\n",
    "# \"color\" specifies the color.  \"b\" = blue.  There are other syntaxes.  \n",
    "#   See: http://matplotlib.org/api/colors_api.html\n",
    "plt.streamplot(X, Y, Etotx, Etoty, density=3, arrowsize=0.5, color='b', linewidth=0.5)\n",
    "\n",
    "# This code will draw a line starting at q1 on the field line plot:\n",
    "# y = slope*(x-x1).  You can use it to estimate the angle that \n",
    "# separates field lines that go to infinity from those that end at q1.\n",
    "# slope = -2\n",
    "# x = np.linspace(1, -1)\n",
    "# plt.plot(x, slope*(x-x1), color='k', linewidth=1)\n",
    "\n",
    "plt.title(\"Dipole Field Lines\")\n",
    "plt.show()\n",
    "\n",
    "# Plot the equipotentials:\n",
    "# The values of V for which to plot the contours:\n",
    "# I picked the values to look nice when q1 = 1 and q2 = -0.4. \n",
    "Vcontours = [q2, 0.2*q2, 0, 0.05*q1, 0.06753*q1, 0.1*q1, 0.25*q1, \n",
    "             0.5*q1, q1]\n",
    "# The RGB colors for each contour Mostly red to mostly blue.  V = 0 is black:\n",
    "clist=((0.9,0.1,0),(0.8,0.2,0),(0,0,0),(0.6,0.4,0),(0.5,0.5,0),\n",
    "       (0.4,0.6,0),(0.3,0.7,0),(0.2,0.8,0),(0.1,0.9,0))\n",
    "plt.contour(X,Y,Vtot,Vcontours,colors=clist)\n",
    "\n",
    "plt.title(\"Dipole Equipotentials\")\n",
    "plt.show()"
   ]
  },
  {
   "cell_type": "code",
   "execution_count": null,
   "metadata": {
    "collapsed": true
   },
   "outputs": [],
   "source": []
  }
 ],
 "metadata": {
  "kernelspec": {
   "display_name": "Python 3",
   "language": "python",
   "name": "python3"
  },
  "language_info": {
   "codemirror_mode": {
    "name": "ipython",
    "version": 3
   },
   "file_extension": ".py",
   "mimetype": "text/x-python",
   "name": "python",
   "nbconvert_exporter": "python",
   "pygments_lexer": "ipython3",
   "version": "3.4.3"
  }
 },
 "nbformat": 4,
 "nbformat_minor": 0
}
