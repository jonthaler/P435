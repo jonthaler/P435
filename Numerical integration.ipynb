{
 "cells": [
  {
   "cell_type": "markdown",
   "metadata": {},
   "source": [
    "# <center>Examples of numerical integration</center>\n",
    "\n",
    "Numerical integration evaluates the function at a set of points (most simply, but not necessarily, evenly spaced) between the integration limits and evaluates the integral by approximating the function between the points.  The functions we are using here employ [quadrature interpolation](https://en.wikipedia.org/wiki/Numerical_integration#Quadrature_rules_based_on_interpolating_functions)\n",
    " to approximate the function.  This won't work if one of the limits is at infinity.\n",
    " \n",
    "We are using the [scipy](http://docs.scipy.org/doc/scipy/reference/)  numerical library.  Unlike Mathematica (and MatLab?) It requires that 1-, 2-, and 3-dimensional integrals be evaluated by different functions: `quad`, `dblquad`, and `tplquad` respectively.  "
   ]
  },
  {
   "cell_type": "markdown",
   "metadata": {},
   "source": [
    "**Simple integral** (one variable):\n",
    "$\\int_0^1 x^2 dx$."
   ]
  },
  {
   "cell_type": "code",
   "execution_count": 3,
   "metadata": {
    "collapsed": false
   },
   "outputs": [
    {
     "name": "stdout",
     "output_type": "stream",
     "text": [
      "ans = 0.3333 .     This is the result.\n",
      "err = 3.701e-15 .  An estimate of the error.\n"
     ]
    }
   ],
   "source": [
    "# Import only the specified function, quad, from the library.\n",
    "from scipy.integrate import quad \n",
    "\n",
    "def integrand(x):\n",
    "    return x**2\n",
    "\n",
    "ans, err = quad(integrand, 0, 1)\n",
    "\n",
    "print (\"ans =\", \"{:5.4f}\".format(ans),\".     This is the result.\")\n",
    "print (\"err =\", \"{:5.3e}\".format(err),\".  An estimate of the error.\")"
   ]
  },
  {
   "cell_type": "markdown",
   "metadata": {},
   "source": [
    "**Note:**  You don't pass \"`integrand(x)`\" to the `quad` function.  It only needs to know the name of the function you want to integrate.\n",
    "\n",
    "You can avoid having to define the `integrand(x)` function by using the `lambda` syntax to define the integration function where it's used.  This is useful (makes the code more legible) if you don't intend to use the function anywhere else.<br>  Here, \"`lambda x: x**2`\" defines an unnamed function $f(x) = x^2$:"
   ]
  },
  {
   "cell_type": "code",
   "execution_count": 4,
   "metadata": {
    "collapsed": false
   },
   "outputs": [
    {
     "name": "stdout",
     "output_type": "stream",
     "text": [
      "ans = 0.333\n",
      "err = 3.701e-15\n"
     ]
    }
   ],
   "source": [
    "# Same as above, using `lambda` syntax.\n",
    "from scipy.integrate import quad\n",
    "\n",
    "ans, err = quad(lambda x: x**2, 0, 1)\n",
    "\n",
    "print (\"ans =\", \"{:5.3f}\".format(ans))\n",
    "print (\"err =\", \"{:5.3e}\".format(err))"
   ]
  },
  {
   "cell_type": "markdown",
   "metadata": {},
   "source": [
    "**Double integral** (two variables):\n",
    "$\\int_\\pi^{2\\pi}\\int_0^\\pi \\left(y\\sin(x)+x\\cos(y)\\right) dy dx$."
   ]
  },
  {
   "cell_type": "code",
   "execution_count": 5,
   "metadata": {
    "collapsed": false
   },
   "outputs": [
    {
     "name": "stdout",
     "output_type": "stream",
     "text": [
      "ans = -9.870\n",
      "err = 1.096e-13\n"
     ]
    }
   ],
   "source": [
    "from scipy.integrate import dblquad\n",
    "import numpy as np\n",
    "\n",
    "# y must be the first argument, and x the second, because we're integrating over y first.\n",
    "def integrand(y, x):\n",
    "    return y*np.sin(x) + x*np.cos(y)\n",
    "\n",
    "ans, err = dblquad(integrand, \n",
    "                   np.pi, 2*np.pi,               # x limits.  numpy knows\n",
    "                   lambda z: 0, lambda z: np.pi) # y limits.  about pi.\n",
    "\n",
    "print (\"ans =\", \"{:5.3f}\".format(ans))\n",
    "print (\"err =\", \"{:5.3e}\".format(err))"
   ]
  },
  {
   "cell_type": "markdown",
   "metadata": {},
   "source": [
    "**Double integral** with non-constant y limit.  This is an integral over a trapezoidal region of the `xy` plane:\n",
    "$\\int_\\pi^{2\\pi}\\int_0^x \\left(y\\sin(x)+x\\cos(y)\\right) dy dx$"
   ]
  },
  {
   "cell_type": "code",
   "execution_count": 6,
   "metadata": {
    "collapsed": false
   },
   "outputs": [
    {
     "name": "stdout",
     "output_type": "stream",
     "text": [
      "ans = -32.099\n",
      "err = 3.564e-13\n"
     ]
    }
   ],
   "source": [
    "from scipy.integrate import dblquad\n",
    "import numpy as np\n",
    "\n",
    "def integrand(y, x):\n",
    "    return y*np.sin(x) + x*np.cos(y)\n",
    "\n",
    "ans, err = dblquad(integrand, \n",
    "                   np.pi, 2*np.pi,           # x limits\n",
    "                   lambda q: 0, lambda q: q) # y limits (0 to x)\n",
    "\n",
    "print (\"ans =\", \"{:5.3f}\".format(ans))\n",
    "print (\"err =\", \"{:5.3e}\".format(err))"
   ]
  },
  {
   "cell_type": "markdown",
   "metadata": {},
   "source": [
    "You can't specify the `y` limits as (0,`x`), because Python doesn't know what x is .  You have to let the `dblquad` function handle the y limits internally by giving it a function (here, a `lambda` function) that it will use to evaluate them."
   ]
  },
  {
   "cell_type": "markdown",
   "metadata": {},
   "source": [
    "**Triple integral** (three variables):\n",
    "$\\int_0^\\pi\\int_0^x\\int_{-1}^{xy} \\left(y\\sin(x)+z\\cos(x)\\right) dz dy dx$.\n",
    "\n",
    "Note: `lambda x,y: x*y` defines an unnamed function, `f(x,y) = x*y`.  In a triple integral, the `z` limits can be functions of both `x` and `y`."
   ]
  },
  {
   "cell_type": "code",
   "execution_count": 7,
   "metadata": {
    "collapsed": false
   },
   "outputs": [
    {
     "name": "stdout",
     "output_type": "stream",
     "text": [
      "ans = -9.552\n",
      "err = 2.010e-13\n"
     ]
    }
   ],
   "source": [
    "from scipy.integrate import tplquad\n",
    "import numpy as np\n",
    "\n",
    "def integrand(z, y, x):\n",
    "    return y * np.sin(x) + z * np.cos(x)\n",
    "\n",
    "ans, err = tplquad(integrand,\n",
    "                   0, np.pi,                        # x limits\n",
    "                   lambda x: 0,    lambda x: x,     # y limits\n",
    "                   lambda x,y: -1, lambda x,y: x*y) # z limits\n",
    "\n",
    "print (\"ans =\", \"{:5.3f}\".format(ans))\n",
    "print (\"err =\", \"{:5.3e}\".format(err))"
   ]
  },
  {
   "cell_type": "markdown",
   "metadata": {},
   "source": [
    "### A Physics example:\n",
    "\n",
    "Calculate the total charge in a sphere of radius = 1, given the charge density, $\\rho(r,\\theta,\\phi) = r \\sin\\theta\\cos^2\\phi$.  We'll do the integral in spherical coordinates:\n",
    "$\\int_0^1\\int_0^\\pi\\int_0^{2\\pi} \\left(r\\sin\\theta\\cos^2\\phi\\right) \\left(r^2 \\sin\\theta\\right) d\\phi d\\theta dr$.  Remember the volume factors."
   ]
  },
  {
   "cell_type": "code",
   "execution_count": 8,
   "metadata": {
    "collapsed": false
   },
   "outputs": [
    {
     "name": "stdout",
     "output_type": "stream",
     "text": [
      "Q   = 1.2337\n",
      "err = 1.370e-14\n"
     ]
    }
   ],
   "source": [
    "from scipy.integrate import tplquad\n",
    "import numpy as np\n",
    "\n",
    "# We're integrating over phi first, so order the arguments that way.\n",
    "# Strictly speaking, it's only necessary for integrand(), but it's\n",
    "# less confusing to do rho the same way.\n",
    "def rho(p,t,r):\n",
    "    return r * np.sin(t) * (np.cos(p))**2\n",
    "                                    \n",
    "def integrand(p,t,r):\n",
    "    return rho(p,t,r) * (r**2 * np.sin(t))\n",
    "\n",
    "Q, err = tplquad(integrand,\n",
    "                 0, 1,                               # r limits\n",
    "                 lambda x: 0,   lambda x: np.pi,     # theta limits\n",
    "                 lambda x,y: 0, lambda x,y: 2*np.pi) # phi limits\n",
    "\n",
    "print (\"Q   =\", \"{:5.4f}\".format(Q))\n",
    "print (\"err =\", \"{:5.3e}\".format(err))"
   ]
  },
  {
   "cell_type": "markdown",
   "metadata": {},
   "source": [
    "<font color=blue>A physics question that you can answer using this code:</font><br> What happens to `Q` if you double the radius of the sphere?"
   ]
  },
  {
   "cell_type": "markdown",
   "metadata": {},
   "source": [
    "## How to deal with kinks and discontinuities.\n",
    "Sometimes functions have kinks.  For example, a triangle:\n",
    "<pre>\n",
    "f(x) =  x  if  0  < x < 1/2\n",
    "     = 1-x if 1/2 < x <  1\n",
    "     =  0  outside the 0:1 interval.\n",
    "</pre>\n",
    "\n",
    "Sometimes they have discontinuities:  For example, a sawtooth:\n",
    "<pre>\n",
    "f(x) =  x    if  0  < x < 1/2\n",
    "     = x-1/2 if 1/2 < x <  1\n",
    "     =  0    outside the 0:1 interval.\n",
    "</pre>\n",
    "<img src=\"functions.jpg\" align=\"center\" width = 60%>\n",
    "\n",
    "<font color=blue>How can we integrate these functions?</font>  We need to be able to define the integrand as a single Python functon that will deal with the fact that the functional form is different in different `x` regions. \n",
    "\n",
    "We need to use an `if` statement.  In its simplest form, it looks like this:\n",
    "<pre>\n",
    "if test_quantity:\n",
    "    do something          # These statements will be executed\n",
    "    do something else     # only if test_quantity is true.\n",
    "do this no matter what\n",
    "</pre>\n",
    "The layout of the code is a similar to that of the `for` and `def` constructs, including the colon and indentation.\n",
    "\n",
    "There are two other forms, that allow alternatives to be tested:\n",
    "<pre>\n",
    "if test1:\n",
    "    do something        # Done if test1 is true.\n",
    "else:\n",
    "    do something else   # Done if test1 is false.\n",
    "do this no matter what\n",
    "</pre>\n",
    "and\n",
    "<pre>\n",
    "if test1:\n",
    "    do something     # Do if test1 is true.\n",
    "elif test2:          # elif is shorthand for \"else if\".\n",
    "    do something 2   # Do if test1 is false and test2 is true.\n",
    "elif test3:\n",
    "    do something 3   # Previous tests failed but test3 is true.\n",
    "else:\n",
    "    do something 4   # All previous tests failed.\n",
    "do this no matter what\n",
    "</pre>\n",
    "You can have as many `elif`s as you need.  The final `else` is optional.  If a test succeeds, its code is executed, and no subsequent tests are performed.\n",
    "\n",
    "[Here](http://www.tutorialspoint.com/python/python_basic_operators.htm) is a list of Python operators, including the arithmetic comparisons. \n",
    "\n",
    "Using this, here's how we can define the triangle function:"
   ]
  },
  {
   "cell_type": "code",
   "execution_count": 9,
   "metadata": {
    "collapsed": false
   },
   "outputs": [
    {
     "name": "stdout",
     "output_type": "stream",
     "text": [
      "ans = 0.250\n",
      "err = 2.776e-15\n"
     ]
    }
   ],
   "source": [
    "from scipy.integrate import quad\n",
    "\n",
    "def integrand(x):\n",
    "    if   x < 0:    # if x < 0, then f = 0.\n",
    "        return 0\n",
    "    elif x < 0.5:  # x > 0;   is it < 0.5?\n",
    "        return x\n",
    "    elif x < 1:    # x > 0.5; is it < 1?\n",
    "        return 1-x\n",
    "    else:\n",
    "        return 0   # Other tests failed.  Thus, x > 1, and f = 0.\n",
    "\n",
    "ans, err = quad(integrand, 0, 1)\n",
    "\n",
    "print (\"ans =\", \"{:5.3f}\".format(ans))\n",
    "print (\"err =\", \"{:5.3e}\".format(err))"
   ]
  },
  {
   "cell_type": "markdown",
   "metadata": {},
   "source": [
    "We could simplify the code by using a more complex test at the beginning."
   ]
  },
  {
   "cell_type": "code",
   "execution_count": 10,
   "metadata": {
    "collapsed": false
   },
   "outputs": [
    {
     "name": "stdout",
     "output_type": "stream",
     "text": [
      "ans = 0.250 err = 2.776e-15\n",
      "ans = 0.250 err = 2.776e-16\n"
     ]
    }
   ],
   "source": [
    "from scipy.integrate import quad\n",
    "\n",
    "def integrand(x):\n",
    "    if x < 0 or x >= 1:  # `>=` means \"equal to or greater than\"\n",
    "        return 0\n",
    "    elif x < 0.5:\n",
    "        return x\n",
    "    else:\n",
    "        return 1-x       # The other tests failed, so we have this.\n",
    "    \n",
    "ans, err = quad(integrand, 0, 1)\n",
    "\n",
    "print (\"ans =\", \"{:5.3f}\".format(ans), \"err =\", \"{:5.3e}\".format(err))\n",
    "\n",
    "# Just for fun, integrate beyond the 0:1 interval:\n",
    "ans, err = quad(integrand, -1, 2)\n",
    "print (\"ans =\", \"{:5.3f}\".format(ans), \"err =\", \"{:5.3e}\".format(err))"
   ]
  },
  {
   "cell_type": "markdown",
   "metadata": {},
   "source": [
    "# When is numerical integration useful?\n",
    "\n",
    "All of the above integrals can be done analytically, and the numerical values obtained by plugging into the result.  This is not always possible:  \n",
    "\n",
    "* Sometimes, the integral has no closed form solution.\n",
    "* Sometimes the integrand is not a function, but a table of numbers (*e.g.*, measurement results from an experiment).\n",
    "\n",
    "### Let's look at the potential produced by a charged, circular loop.\n",
    "\n",
    "Let the loop have radius $R$, lying in the $xy$ plane.  Thus, $z=0$, and $x^2+y^2=R^2$.  <br>If it has total charge, $Q$, the linear charge density is $\\lambda=\\frac{Q}{2{\\pi}R}$.\n",
    "\n",
    "First, look at the potential on axis ($x=y=0$, $z\\neq0$).  In this case, every point on the loop is the same distance, $d=\\sqrt{z^2+R^2}$ from the point of interest, so $V(z)=Q/4\\pi\\epsilon_0d$.\n",
    "\n",
    "However, when we want $V(x,y,z)$ off axis (let $x\\neq0$, but keep $y=0$), we must integrate, because $d$ varies around the loop: $d=\\sqrt{z^2+(R\\sin\\theta)^2+(R\\cos\\theta-x)^2}$, where $\\theta$ is the polar angle (from the $x$-axis) of a point on the loop.  Thus:\n",
    "$$V(x,0,z)=\\frac{Q}{2{\\pi}R}\\frac{1}{4\\pi\\epsilon_0}\\int_0^{2\\pi}{\\frac{d\\theta}{\\sqrt{z^2+(R\\sin\\theta)^2+(R\\cos\\theta-x)^2}}}.$$\n",
    "Unfortunately, this is an elliptic integral and must be evaluated numerically. \n",
    "\n",
    "Let's evaluate the integral in Python:"
   ]
  },
  {
   "cell_type": "code",
   "execution_count": 11,
   "metadata": {
    "collapsed": false
   },
   "outputs": [
    {
     "data": {
      "image/png": "[encoded data removed]",
      "text/plain": [
       "<matplotlib.figure.Figure at 0x7f7e48ef75c0>"
      ]
     },
     "metadata": {},
     "output_type": "display_data"
    }
   ],
   "source": [
    "import numpy as np\n",
    "# This is a 1-D integral.\n",
    "from scipy.integrate import quad \n",
    "\n",
    "# We'll plot the results.\n",
    "import matplotlib.pyplot as plt\n",
    "import matplotlib as mpl\n",
    "# Display the plots here (inline).\n",
    "%matplotlib inline                     \n",
    "mpl.rcParams['figure.figsize']=[8,4]  # Set H and V sizes of plots.\n",
    "\n",
    "\n",
    "\n",
    "# Define the integration to be a function of the position of the\n",
    "# observation point.  That will let us graph the results.\n",
    "# For legibility, I'll ignore all the constants (except Q) in \n",
    "# front of the integral.\n",
    "def V(x,y,z,R,Q):\n",
    "    # This is where the integration is done. \n",
    "    def integrand(theta):\n",
    "        return 1/np.sqrt(z**2+(R*np.sin(theta))**2+(R*np.cos(theta)-x)**2)\n",
    "    ans,err = quad(integrand,0,2*np.pi)\n",
    "    # Return the result, but not the error estimate.\n",
    "    return Q*ans\n",
    "\n",
    "# Make a graph of V along the line (x,y=0,z=0.1) by evaluating it at \n",
    "# a sequence of x values and filling a list of points to plot.\n",
    "y=0\n",
    "z=0.1\n",
    "R=1\n",
    "Q=1\n",
    "xmin    = -10.0  # Remember to tell Python that some quantities\n",
    "xmax    = +10.0  # that look like integers are actually reals.\n",
    "npoints =  1001  # Otherwise xstep will be truncated to zero.\n",
    "xstep   = (xmax-xmin)/(npoints-1)\n",
    "\n",
    "# Create the lists of plot coordinates.\n",
    "xx = [xmin + i*xstep   for i in range(0,npoints)] # The  x   values.\n",
    "yy = [V(xx[i],y,z,R,Q) for i in range(0,npoints)] # The V(x) values.\n",
    "\n",
    "plt.plot(xx,yy)\n",
    "plt.show()\n",
    "\n"
   ]
  },
  {
   "cell_type": "markdown",
   "metadata": {},
   "source": [
    "You can vary `z` to see what happens.  If you set `z = 0`, the `quad` function will complain.  The reason is that the line goes through `(±R,0,0)`, where `V` diverges.  The `quad` function can't deal with singularities.\n",
    "\n",
    "I made `npoints` large because, if it is too small, the plot  will look jagged near the wire, and the sharp peaks will be missed.  You need to have closely spaced plot points.  Compare `npoints = 1001` with `npoints = 51` when `z = 0.01`.\n",
    "\n",
    "We can plot several `z` values at once.  The obscure `plt.plot()` arguments control the look of the graphs.  Documentation is [here](http://matplotlib.org/api/pyplot_api.html?highlight=plot#matplotlib.pyplot.plot)."
   ]
  },
  {
   "cell_type": "code",
   "execution_count": 12,
   "metadata": {
    "collapsed": false
   },
   "outputs": [
    {
     "data": {
      "image/png": "[encoded data removed]",
      "text/plain": [
       "<matplotlib.figure.Figure at 0x7f7e4af71438>"
      ]
     },
     "metadata": {},
     "output_type": "display_data"
    }
   ],
   "source": [
    "xx = [xmin + i*xstep   for i in range(0,npoints)]\n",
    "z = 0.5\n",
    "y05 = [V(xx[i],y,z,R,Q) for i in range(0,npoints)]\n",
    "z = 1\n",
    "y1 = [V(xx[i],y,z,R,Q) for i in range(0,npoints)]\n",
    "z = 2\n",
    "y2 = [V(xx[i],y,z,R,Q) for i in range(0,npoints)]\n",
    "z = 3\n",
    "y3 = [V(xx[i],y,z,R,Q) for i in range(0,npoints)]\n",
    "\n",
    "#plt.xlim(1.01*xmin,1.01*xmax)\n",
    "#plt.ylim(0,7)\n",
    "plt.plot(xx,y05, 'k-')  # Black, solid line\n",
    "plt.plot(xx,y1,  'b--') # Blue, dashed line\n",
    "plt.plot(xx,y2,  'r-.') # Red, dash-dot line\n",
    "plt.plot(xx,y3,  'm:')  # Magenta, dotted line\n",
    "plt.show()"
   ]
  },
  {
   "cell_type": "markdown",
   "metadata": {},
   "source": [
    "Notice that far from the loop (*i.e.*, `|x| > 5R`, or so), the graphs begin to look the same.  You'll understand this behavior when you study multipole moments in P436.  In a nutshell, far from the object only the total charge is important, not the shape."
   ]
  },
  {
   "cell_type": "markdown",
   "metadata": {
    "collapsed": false
   },
   "source": [
    "We can display the graphs interactively with sliders:"
   ]
  },
  {
   "cell_type": "code",
   "execution_count": 14,
   "metadata": {
    "collapsed": false
   },
   "outputs": [
    {
     "data": {
      "image/png": "[encoded data removed]",
      "text/plain": [
       "<matplotlib.figure.Figure at 0x7f7e48d42f98>"
      ]
     },
     "metadata": {},
     "output_type": "display_data"
    },
    {
     "data": {
      "text/plain": [
       "None"
      ]
     },
     "metadata": {},
     "output_type": "display_data"
    }
   ],
   "source": [
    "import matplotlib.pyplot as plt\n",
    "import numpy as np\n",
    "from IPython.html.widgets import interact\n",
    "\n",
    "def V(x,y,z,R,Q):\n",
    "    def integrand(theta):\n",
    "        return 1/np.sqrt(z**2+(R*np.sin(theta))**2+(R*np.cos(theta)-x)**2)\n",
    "    ans,err = quad(integrand,0,2*np.pi)\n",
    "    return Q*ans\n",
    "\n",
    "def plotV(z = 1.0, npoints = 1001):\n",
    "    y     = 0.0\n",
    "    R     = 1.0\n",
    "    Q     = 1.0\n",
    "    xmin = -10*R\n",
    "    xmax = +10*R\n",
    "    xstep = (xmax-xmin)/(npoints-1)\n",
    "\n",
    "    # Create the lists of plot coordinates.\n",
    "    xx = [xmin + i*xstep   for i in range(0,npoints)] # The  x   values.\n",
    "    yy = [V(xx[i],y,z,R,Q) for i in range(0,npoints)] # The V(x) values.\n",
    "\n",
    "    plt.plot(xx,yy)\n",
    "    plt.show()\n",
    "\n",
    "# Just generate two sliders.  You can add more.\n",
    "interact(plotV, z       = (0.01, 5.0, 0.01), \n",
    "                npoints = (50,1000,50))"
   ]
  },
  {
   "cell_type": "markdown",
   "metadata": {},
   "source": [
    "The `interact` function is a new iPython feature, and is still under development.  If you move the sliders there is a latency (delay) before the desired plot is shown, and some of the intermediate slider positions are briefly displayed.  This is a problem with the implementation of the `interact` function.  However, latency will always be a serious problem whenever the function to be evaluated (in our case, `V(x,y,z,R,Q)`) is complicated.  Ours is a simple integral, but if it were very complicated, it might take several seconds (or longer) to complete.  An interactive environment is less useful in situations like that."
   ]
  },
  {
   "cell_type": "code",
   "execution_count": null,
   "metadata": {
    "collapsed": true
   },
   "outputs": [],
   "source": []
  }
 ],
 "metadata": {
  "kernelspec": {
   "display_name": "Python 3",
   "language": "python",
   "name": "python3"
  },
  "language_info": {
   "codemirror_mode": {
    "name": "ipython",
    "version": 3
   },
   "file_extension": ".py",
   "mimetype": "text/x-python",
   "name": "python",
   "nbconvert_exporter": "python",
   "pygments_lexer": "ipython3",
   "version": "3.4.3"
  }
 },
 "nbformat": 4,
 "nbformat_minor": 0
}
